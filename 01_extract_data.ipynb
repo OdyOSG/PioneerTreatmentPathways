{
 "cells": [
  {
   "cell_type": "raw",
   "id": "9d8063c3",
   "metadata": {},
   "source": [
    "---\n",
    "title: \"PIONEER Treatment Patterns Study\"\n",
    "output: html_document\n",
    "date: \"`r Sys.Date()`\"\n",
    "---"
   ]
  },
  {
   "cell_type": "code",
   "execution_count": null,
   "id": "ccd10a8d",
   "metadata": {
    "name": "setup",
    "tags": [
     "remove_cell"
    ]
   },
   "outputs": [],
   "source": [
    "knitr::opts_chunk$set(echo = TRUE)"
   ]
  },
  {
   "cell_type": "markdown",
   "id": "7387311c",
   "metadata": {},
   "source": [
    "This Rmarkdown document contains the code to run the PIONEER Treatment Patterns Study. The code has been largely adapted from the [PIONEERmetastaticTreatment](https://github.com/bdemeulder/PIONEERmetastaticTreatment) study. It has been refactored into an RMarkdown document to facilitate readability.\n",
    "\n",
    "The study can be executed by rendering this documnent all at once or by running each code block one at a time. It is provided in both RMarkdown and Jupyter notebook formats. The notebook is written prioritizing readability so that other data scientists might easily see how the study code implements the study protocol.\n",
    "\n",
    "# Setup\n",
    "\n",
    "First we set up the R runtime by installing required packages and test database access. We need to test both read and write access since the study needs to be able to write data to the `cohortDatabaseSchema`."
   ]
  },
  {
   "cell_type": "code",
   "execution_count": null,
   "id": "0927ab58",
   "metadata": {
    "eval": false,
    "lines_to_next_cell": 0,
    "name": "install-dependencies"
   },
   "outputs": [],
   "source": [
    "# This only needs to be done once\n",
    "# install.packages(\"devtools\")\n",
    "# install.packages(\"survminer\")\n",
    "# devtools::install_github(\"OHDSI/CohortDiagnostics\")\n",
    "# devtools::install_github(\"OHDSI/CohortGenerator\")"
   ]
  },
  {
   "cell_type": "markdown",
   "id": "60920ef0",
   "metadata": {},
   "source": [
    "\n"
   ]
  },
  {
   "cell_type": "code",
   "execution_count": null,
   "id": "548537ee",
   "metadata": {
    "lines_to_next_cell": 2,
    "name": "set-study-parameters"
   },
   "outputs": [],
   "source": [
    "source(here::here(\"00_study_parameters.R\"))\n",
    "\n",
    "# check that study parameters are available\n",
    "# these should be set in parameters.R\n",
    "cohortDatabaseSchema\n",
    "cohortTable\n",
    "exportFolder\n",
    "databaseId\n",
    "databaseName\n",
    "databaseDescription\n",
    "options(\"sqlRenderTempEmulationSchema\")"
   ]
  },
  {
   "cell_type": "markdown",
   "id": "d9cbd360",
   "metadata": {},
   "source": [
    "The R folder contains some helpful R functions that we will use in the study. Load/source them into the R environment."
   ]
  },
  {
   "cell_type": "code",
   "execution_count": null,
   "id": "73840d58",
   "metadata": {
    "lines_to_next_cell": 2,
    "name": "source-R-files"
   },
   "outputs": [],
   "source": [
    "\n",
    "# Source R code files in this project\n",
    "purrr::walk(list.files(here(\"R\"), full.names = TRUE), source)\n",
    "\n",
    "if (!file.exists(exportFolder)) {\n",
    "  dir.create(exportFolder, recursive = TRUE)\n",
    "}\n",
    "\n",
    "readr::write_lines(.systemInfo(), here::here(exportFolder, \"sessionInfo.txt\"))\n",
    "cat(.systemInfo())"
   ]
  },
  {
   "cell_type": "markdown",
   "id": "e9cfa35a",
   "metadata": {},
   "source": [
    "## Save database metadata"
   ]
  },
  {
   "cell_type": "code",
   "execution_count": null,
   "id": "8842c2cb",
   "metadata": {
    "name": "save_database_info"
   },
   "outputs": [],
   "source": [
    "\n",
    "con <- connect(connectionDetails)\n",
    "\n",
    "sql <- glue(\"SELECT vocabulary_version \n",
    "             FROM {cdmDatabaseSchema}.vocabulary \n",
    "             WHERE vocabulary_id = 'None';\")\n",
    "\n",
    "vocabInfo <- renderTranslateQuerySql(con, sql)\n",
    "\n",
    "database <- data.frame(databaseId = databaseId,\n",
    "                       databaseName = databaseName,\n",
    "                       description = databaseDescription,\n",
    "                       vocabularyVersion = vocabInfo[[1]])\n",
    "\n",
    "readr::write_csv(database, here::here(exportFolder, \"database.csv\"))\n",
    "\n"
   ]
  },
  {
   "cell_type": "markdown",
   "id": "3e305c43",
   "metadata": {},
   "source": [
    "# Generate Study Cohorts"
   ]
  },
  {
   "cell_type": "code",
   "execution_count": null,
   "id": "68cf1331",
   "metadata": {
    "name": "generate_cohorts"
   },
   "outputs": [],
   "source": [
    "cohortDefinitionSet <- readr::read_csv(here(\"input\", \"settings\", \"CohortsToCreate.csv\"), \n",
    "                                       show_col_types = FALSE) %>% \n",
    "  mutate(cohortName = name,\n",
    "         sqlPath = file.path(\"input\", \"sql\", \"sql_server\", paste0(name, \".sql\")),\n",
    "         sql = purrr::map_chr(sqlPath, readr::read_file))\n",
    "\n",
    "start <- Sys.time()\n",
    "cohortTableNames <- CohortGenerator::getCohortTableNames(cohortTable)\n",
    "\n",
    "CohortGenerator::createCohortTables(\n",
    "    connection = con,\n",
    "    cohortDatabaseSchema = cohortDatabaseSchema,\n",
    "    cohortTableNames = cohortTableNames,\n",
    "    incremental = FALSE)\n",
    "\n",
    "\n",
    "CohortGenerator::generateCohortSet(\n",
    "  connection = con,\n",
    "  cdmDatabaseSchema = cdmDatabaseSchema,\n",
    "  cohortDatabaseSchema = cohortDatabaseSchema,\n",
    "  cohortDefinitionSet = cohortDefinitionSet,\n",
    "  cohortTableNames = cohortTableNames,\n",
    "  incremental = TRUE,\n",
    "  incrementalFolder = here(exportFolder, \"incremental\")\n",
    ")\n",
    "\n",
    "delta <- Sys.time() - start\n",
    "cat(paste(\"Generating cohorts took\", signif(delta, 3), attr(delta, \"units\")))"
   ]
  },
  {
   "cell_type": "code",
   "execution_count": null,
   "id": "9257eaac",
   "metadata": {
    "name": "check_cohort_generation"
   },
   "outputs": [],
   "source": [
    "n <- renderTranslateQuerySql(con, glue::glue(\"select count(*) as n from {cohortDatabaseSchema}.{cohortTable}\")) %>%\n",
    "  rename_all(tolower) %>% \n",
    "  pull(n)\n",
    "\n",
    "message(glue(\"cohort table created with {n} rows.\"))"
   ]
  },
  {
   "cell_type": "code",
   "execution_count": null,
   "id": "b1d2bb49",
   "metadata": {
    "name": "get_cohort_counts"
   },
   "outputs": [],
   "source": [
    "\n",
    "cohortCounts <- CohortGenerator::getCohortCounts(\n",
    "    connection = con,\n",
    "    cohortDatabaseSchema = cohortDatabaseSchema,\n",
    "    cohortTable = cohortTable) %>%\n",
    "  tibble() %>%\n",
    "  full_join(select(cohortDefinitionSet, cohortId, name = atlasName, group), by = \"cohortId\") %>%\n",
    "  mutate(across(c(cohortEntries, cohortSubjects), ~tidyr::replace_na(., 0))) %>% \n",
    "  mutate(databaseId = databaseId) %>%\n",
    "  arrange(cohortId)\n",
    "\n",
    "readr::write_csv(cohortCounts, here(exportFolder, paste0(databaseId, \"CohortCounts.csv\")))\n",
    "\n",
    "print(cohortCounts, n=100)\n",
    "\n",
    "if (all(filter(cohortCounts, group == \"Target\") %>% pull(cohortEntries) == 0)) {\n",
    "  stop(\"All target cohorts are empty. You cannot execute this study.\")\n",
    "}"
   ]
  },
  {
   "cell_type": "markdown",
   "id": "d0e85af5",
   "metadata": {},
   "source": [
    "# Extract Baseline Characteristics"
   ]
  },
  {
   "cell_type": "code",
   "execution_count": null,
   "id": "857697ea",
   "metadata": {
    "name": "features_one_year_prior_to_index"
   },
   "outputs": [],
   "source": [
    "library(FeatureExtraction)\n",
    "\n",
    "target_ids <- 1:5\n",
    "\n",
    "preIndexCovariateSettings <- createCovariateSettings(\n",
    "  useDemographicsAge = TRUE,\n",
    "  useDemographicsGender = TRUE,\n",
    "  useConditionGroupEraLongTerm = TRUE,\n",
    "  useDrugGroupEraLongTerm = TRUE,\n",
    "  longTermStartDays = -365,\n",
    "  endDays = 0\n",
    ")\n",
    "\n",
    "covariates_minus365_minus1 <- \n",
    "  getDbCovariateData(connection = con,\n",
    "                     oracleTempSchema = getOption(\"SqlRenderTempEmulationSchema\"),\n",
    "                     cohortTable = cohortTable,\n",
    "                     cdmDatabaseSchema = cdmDatabaseSchema,\n",
    "                     cohortDatabaseSchema = cohortDatabaseSchema,\n",
    "                     cohortId = target_ids,\n",
    "                     covariateSettings = preIndexCovariateSettings,\n",
    "                     aggregated = TRUE)\n",
    "\n",
    "Andromeda::saveAndromeda(covariates_minus365_minus1, here::here(exportFolder, \"covariates_minus365_minus1\"))"
   ]
  },
  {
   "cell_type": "code",
   "execution_count": null,
   "id": "31cfcd53",
   "metadata": {
    "lines_to_next_cell": 2,
    "name": "features_one_year_post_index"
   },
   "outputs": [],
   "source": [
    "postIndexCovariateSettings_0_365 <- createCovariateSettings(\n",
    "  useConditionGroupEraLongTerm = TRUE,\n",
    "  useDrugGroupEraLongTerm = TRUE,\n",
    "  longTermStartDays = 0,\n",
    "  endDays = 365\n",
    ")\n",
    "\n",
    "postIndexCovariates <- \n",
    "  getDbCovariateData(connection = con,\n",
    "                     oracleTempSchema = getOption(\"SqlRenderTempEmulationSchema\"),\n",
    "                     cohortTable = cohortTable,\n",
    "                     cdmDatabaseSchema = cdmDatabaseSchema,\n",
    "                     cohortDatabaseSchema = cohortDatabaseSchema,\n",
    "                     cohortId = target_ids,\n",
    "                     covariateSettings = postIndexCovariateSettings_0_365,\n",
    "                     aggregated = TRUE)\n",
    "\n",
    "Andromeda::saveAndromeda(postIndexCovariates, here::here(exportFolder, \"covariates_0_365\"))"
   ]
  },
  {
   "cell_type": "code",
   "execution_count": null,
   "id": "185b197b",
   "metadata": {
    "lines_to_next_cell": 2,
    "name": "features_year2_post_index"
   },
   "outputs": [],
   "source": [
    "\n",
    "postIndexCovariateSettings_366_710 <- createCovariateSettings(\n",
    "  useConditionGroupEraLongTerm = TRUE,\n",
    "  useDrugGroupEraLongTerm = TRUE,\n",
    "  longTermStartDays = 366,\n",
    "  endDays = 710\n",
    ")\n",
    "\n",
    "covariates_366_710 <- \n",
    "  getDbCovariateData(connection = con,\n",
    "                     oracleTempSchema = getOption(\"SqlRenderTempEmulationSchema\"),\n",
    "                     cohortTable = cohortTable,\n",
    "                     cdmDatabaseSchema = cdmDatabaseSchema,\n",
    "                     cohortDatabaseSchema = cohortDatabaseSchema,\n",
    "                     cohortId = target_ids,\n",
    "                     covariateSettings = postIndexCovariateSettings_366_710,\n",
    "                     aggregated = TRUE)\n",
    "\n",
    "Andromeda::saveAndromeda(covariates_366_710, here::here(exportFolder, \"covariates_366_710\"))"
   ]
  },
  {
   "cell_type": "code",
   "execution_count": null,
   "id": "c6cb87ec",
   "metadata": {
    "lines_to_next_cell": 2,
    "name": "extract_cohort_table"
   },
   "outputs": [],
   "source": [
    "\n",
    "sql <- glue(\"\n",
    "  select * \n",
    "  from {cohortDatabaseSchema}.{cohortTable}\n",
    "  where subject_id in (\n",
    "    select distinct subject_id \n",
    "    from {cohortDatabaseSchema}.{cohortTable}\n",
    "    where cohort_definition_id = 1\n",
    "  )\") %>% \n",
    "  SqlRender::translate(connectionDetails$dbms())\n",
    "\n",
    "cohort <- Andromeda::andromeda()\n",
    "DatabaseConnector::querySqlToAndromeda(con, sql, cohort, \"cohort\")\n",
    "\n",
    "Andromeda::saveAndromeda(cohort, here::here(\"temp\", \"cohort\"))\n",
    "\n",
    "cohort <- Andromeda::loadAndromeda(here::here(\"temp\", \"cohort\"))\n",
    "\n",
    "print(paste(nrow(cohort$cohort), \"rows in the cohort table\"))\n",
    "\n",
    "Andromeda::close(cohort)"
   ]
  },
  {
   "cell_type": "code",
   "execution_count": null,
   "id": "ed567757",
   "metadata": {
    "lines_to_next_cell": 0,
    "name": "disconnect"
   },
   "outputs": [],
   "source": [
    "disconnect(con)"
   ]
  },
  {
   "cell_type": "markdown",
   "id": "cea85e69",
   "metadata": {},
   "source": []
  }
 ],
 "metadata": {
  "jupytext": {
   "cell_metadata_filter": "eval,tags,name,-all",
   "main_language": "R",
   "notebook_metadata_filter": "-all"
  }
 },
 "nbformat": 4,
 "nbformat_minor": 5
}
