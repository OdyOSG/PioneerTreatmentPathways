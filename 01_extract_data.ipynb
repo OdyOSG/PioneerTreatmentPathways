{
 "cells": [
  {
   "cell_type": "raw",
   "id": "2c4f9ecc",
   "metadata": {},
   "source": [
    "---\n",
    "title: \"PIONEER Treatment Patterns Study\"\n",
    "output: html_document\n",
    "date: \"`r Sys.Date()`\"\n",
    "---"
   ]
  },
  {
   "cell_type": "code",
   "execution_count": null,
   "id": "cb5c7160",
   "metadata": {
    "name": "setup",
    "tags": [
     "remove_cell"
    ]
   },
   "outputs": [],
   "source": [
    "knitr::opts_chunk$set(echo = TRUE)"
   ]
  },
  {
   "cell_type": "markdown",
   "id": "864c17f9",
   "metadata": {},
   "source": [
    "This Rmarkdown document contains the code to run the PIONEER Treatment Patterns Study. The code has been largely adapted from the [PIONEERmetastaticTreatment](https://github.com/bdemeulder/PIONEERmetastaticTreatment) study. It has been refactored into an RMarkdown document to facilitate readability.\n",
    "\n",
    "The study can be executed by rendering this documnent all at once or by running each code block one at a time. It is provided in both RMarkdown and Jupyter notebook formats. The notebook is written prioritizing readability so that other data scientists might easily see how the study code implements the study protocol.\n",
    "\n",
    "# Setup\n",
    "\n",
    "First we set up the R runtime by installing required packages and test database access. We need to test both read and write access since the study needs to be able to write data to the `cohortDatabaseSchema`."
   ]
  },
  {
   "cell_type": "code",
   "execution_count": null,
   "id": "ada276c0",
   "metadata": {
    "eval": false,
    "lines_to_next_cell": 0,
    "name": "install-dependencies"
   },
   "outputs": [],
   "source": [
    "# This only needs to be done once\n",
    "# install.packages(\"devtools\")\n",
    "# install.packages(\"survminer\")\n",
    "# devtools::install_github(\"OHDSI/CohortDiagnostics\")\n",
    "# devtools::install_github(\"OHDSI/CohortGenerator\")"
   ]
  },
  {
   "cell_type": "markdown",
   "id": "ed55de0c",
   "metadata": {},
   "source": [
    "\n"
   ]
  },
  {
   "cell_type": "code",
   "execution_count": null,
   "id": "d9f55683",
   "metadata": {
    "lines_to_next_cell": 2,
    "name": "set-study-parameters"
   },
   "outputs": [],
   "source": [
    "source(here::here(\"00_study_parameters.R\"))\n",
    "\n",
    "# check that study parameters are available\n",
    "# these should be set in parameters.R\n",
    "cohortDatabaseSchema\n",
    "cohortTable\n",
    "exportFolder\n",
    "databaseId\n",
    "databaseName\n",
    "databaseDescription\n",
    "options(\"sqlRenderTempEmulationSchema\")"
   ]
  },
  {
   "cell_type": "markdown",
   "id": "3f898708",
   "metadata": {},
   "source": [
    "The R folder contains some helpful R functions that we will use in the study. Load/source them into the R environment."
   ]
  },
  {
   "cell_type": "code",
   "execution_count": null,
   "id": "39fa86ff",
   "metadata": {
    "lines_to_next_cell": 2,
    "name": "source-R-files"
   },
   "outputs": [],
   "source": [
    "\n",
    "# Source R code files in this project\n",
    "purrr::walk(list.files(here(\"R\"), full.names = TRUE), source)\n",
    "\n",
    "if (!file.exists(exportFolder)) {\n",
    "  dir.create(exportFolder, recursive = TRUE)\n",
    "}\n",
    "\n",
    "readr::write_lines(.systemInfo(), here::here(exportFolder, \"sessionInfo.txt\"))\n",
    "cat(.systemInfo())"
   ]
  },
  {
   "cell_type": "markdown",
   "id": "54132fd9",
   "metadata": {},
   "source": [
    "## Save database metadata"
   ]
  },
  {
   "cell_type": "code",
   "execution_count": null,
   "id": "38e2a043",
   "metadata": {
    "name": "save_database_info"
   },
   "outputs": [],
   "source": [
    "\n",
    "con <- connect(connectionDetails)\n",
    "\n",
    "sql <- glue(\"SELECT vocabulary_version \n",
    "             FROM {cdmDatabaseSchema}.vocabulary \n",
    "             WHERE vocabulary_id = 'None';\")\n",
    "\n",
    "vocabInfo <- renderTranslateQuerySql(con, sql)\n",
    "\n",
    "database <- data.frame(databaseId = databaseId,\n",
    "                       databaseName = databaseName,\n",
    "                       description = databaseDescription,\n",
    "                       vocabularyVersion = vocabInfo[[1]])\n",
    "\n",
    "readr::write_csv(database, here::here(exportFolder, \"database.csv\"))\n",
    "\n"
   ]
  },
  {
   "cell_type": "markdown",
   "id": "8c4347f4",
   "metadata": {},
   "source": [
    "# Generate Study Cohorts"
   ]
  },
  {
   "cell_type": "code",
   "execution_count": null,
   "id": "c2cf8aaa",
   "metadata": {
    "name": "generate_cohorts"
   },
   "outputs": [],
   "source": [
    "cohortDefinitionSet <- readr::read_csv(here(\"input\", \"settings\", \"CohortsToCreate.csv\"), \n",
    "                                       show_col_types = FALSE) %>% \n",
    "  mutate(cohortName = name,\n",
    "         sqlPath = file.path(\"input\", \"sql\", \"sql_server\", paste0(name, \".sql\")),\n",
    "         sql = purrr::map_chr(sqlPath, readr::read_file))\n",
    "\n",
    "start <- Sys.time()\n",
    "cohortTableNames <- CohortGenerator::getCohortTableNames(cohortTable)\n",
    "\n",
    "CohortGenerator::createCohortTables(\n",
    "    connection = con,\n",
    "    cohortDatabaseSchema = cohortDatabaseSchema,\n",
    "    cohortTableNames = cohortTableNames,\n",
    "    incremental = FALSE)\n",
    "\n",
    "\n",
    "CohortGenerator::generateCohortSet(\n",
    "  connection = con,\n",
    "  cdmDatabaseSchema = cdmDatabaseSchema,\n",
    "  cohortDatabaseSchema = cohortDatabaseSchema,\n",
    "  cohortDefinitionSet = cohortDefinitionSet,\n",
    "  cohortTableNames = cohortTableNames,\n",
    "  incremental = TRUE,\n",
    "  incrementalFolder = here(exportFolder, \"incremental\")\n",
    ")\n",
    "\n",
    "delta <- Sys.time() - start\n",
    "cat(paste(\"Generating cohorts took\", signif(delta, 3), attr(delta, \"units\")))"
   ]
  },
  {
   "cell_type": "code",
   "execution_count": null,
   "id": "41e3b708",
   "metadata": {
    "name": "check_cohort_generation"
   },
   "outputs": [],
   "source": [
    "n <- renderTranslateQuerySql(con, glue::glue(\"select count(*) as n from {cohortDatabaseSchema}.{cohortTable}\")) %>%\n",
    "  rename_all(tolower) %>% \n",
    "  pull(n)\n",
    "\n",
    "message(glue(\"cohort table created with {n} rows.\"))"
   ]
  },
  {
   "cell_type": "code",
   "execution_count": null,
   "id": "a7e4bb4b",
   "metadata": {
    "name": "get_cohort_counts"
   },
   "outputs": [],
   "source": [
    "\n",
    "cohortCounts <- CohortGenerator::getCohortCounts(\n",
    "    connection = con,\n",
    "    cohortDatabaseSchema = cohortDatabaseSchema,\n",
    "    cohortTable = cohortTable) %>%\n",
    "  tibble() %>%\n",
    "  full_join(select(cohortDefinitionSet, cohortId, name = atlasName, group), by = \"cohortId\") %>%\n",
    "  mutate(across(c(cohortEntries, cohortSubjects), ~tidyr::replace_na(., 0))) %>% \n",
    "  mutate(databaseId = databaseId) %>%\n",
    "  arrange(cohortId)\n",
    "\n",
    "readr::write_csv(cohortCounts, here(exportFolder, paste0(databaseId, \"CohortCounts.csv\")))\n",
    "\n",
    "print(cohortCounts, n=100)\n",
    "\n",
    "if (all(filter(cohortCounts, group == \"Target\") %>% pull(cohortEntries) == 0)) {\n",
    "  stop(\"All target cohorts are empty. You cannot execute this study.\")\n",
    "}"
   ]
  },
  {
   "cell_type": "markdown",
   "id": "cb470fb2",
   "metadata": {},
   "source": [
    "# Extract Baseline Characteristics"
   ]
  },
  {
   "cell_type": "code",
   "execution_count": null,
   "id": "7334e666",
   "metadata": {
    "name": "features_one_year_prior_to_index"
   },
   "outputs": [],
   "source": [
    "library(FeatureExtraction)\n",
    "\n",
    "target_ids <- 1:5\n",
    "\n",
    "preIndexCovariateSettings <- createCovariateSettings(\n",
    "  useDemographicsAge = TRUE,\n",
    "  useDemographicsGender = TRUE,\n",
    "  useConditionGroupEraLongTerm = TRUE,\n",
    "  useDrugGroupEraLongTerm = TRUE,\n",
    "  longTermStartDays = -365,\n",
    "  endDays = 0\n",
    ")\n",
    "\n",
    "covariates_minus365_minus1 <- \n",
    "  getDbCovariateData(connection = con,\n",
    "                     oracleTempSchema = getOption(\"SqlRenderTempEmulationSchema\"),\n",
    "                     cohortTable = cohortTable,\n",
    "                     cdmDatabaseSchema = cdmDatabaseSchema,\n",
    "                     cohortDatabaseSchema = cohortDatabaseSchema,\n",
    "                     cohortId = target_ids,\n",
    "                     covariateSettings = preIndexCovariateSettings,\n",
    "                     aggregated = TRUE)\n",
    "\n",
    "Andromeda::saveAndromeda(covariates_minus365_minus1, here::here(exportFolder, \"covariates_minus365_minus1\"))"
   ]
  },
  {
   "cell_type": "code",
   "execution_count": null,
   "id": "3969cabd",
   "metadata": {
    "lines_to_next_cell": 2,
    "name": "features_one_year_post_index"
   },
   "outputs": [],
   "source": [
    "postIndexCovariateSettings_0_365 <- createCovariateSettings(\n",
    "  useConditionGroupEraLongTerm = TRUE,\n",
    "  useDrugGroupEraLongTerm = TRUE,\n",
    "  longTermStartDays = 0,\n",
    "  endDays = 365\n",
    ")\n",
    "\n",
    "postIndexCovariates <- \n",
    "  getDbCovariateData(connection = con,\n",
    "                     oracleTempSchema = getOption(\"SqlRenderTempEmulationSchema\"),\n",
    "                     cohortTable = cohortTable,\n",
    "                     cdmDatabaseSchema = cdmDatabaseSchema,\n",
    "                     cohortDatabaseSchema = cohortDatabaseSchema,\n",
    "                     cohortId = target_ids,\n",
    "                     covariateSettings = postIndexCovariateSettings_0_365,\n",
    "                     aggregated = TRUE)\n",
    "\n",
    "Andromeda::saveAndromeda(postIndexCovariates, here::here(exportFolder, \"covariates_0_365\"))"
   ]
  },
  {
   "cell_type": "code",
   "execution_count": null,
   "id": "c9c03848",
   "metadata": {
    "lines_to_next_cell": 2,
    "name": "features_year2_post_index"
   },
   "outputs": [],
   "source": [
    "\n",
    "postIndexCovariateSettings_366_710 <- createCovariateSettings(\n",
    "  useConditionGroupEraLongTerm = TRUE,\n",
    "  useDrugGroupEraLongTerm = TRUE,\n",
    "  longTermStartDays = 366,\n",
    "  endDays = 710\n",
    ")\n",
    "\n",
    "covariates_366_710 <- \n",
    "  getDbCovariateData(connection = con,\n",
    "                     oracleTempSchema = getOption(\"SqlRenderTempEmulationSchema\"),\n",
    "                     cohortTable = cohortTable,\n",
    "                     cdmDatabaseSchema = cdmDatabaseSchema,\n",
    "                     cohortDatabaseSchema = cohortDatabaseSchema,\n",
    "                     cohortId = target_ids,\n",
    "                     covariateSettings = postIndexCovariateSettings_366_710,\n",
    "                     aggregated = TRUE)\n",
    "\n",
    "Andromeda::saveAndromeda(covariates_366_710, here::here(exportFolder, \"covariates_366_710\"))"
   ]
  },
  {
   "cell_type": "markdown",
   "id": "fc9f1323",
   "metadata": {},
   "source": [
    "# Extract cohort table for survival analysis"
   ]
  },
  {
   "cell_type": "code",
   "execution_count": null,
   "id": "bf110cbc",
   "metadata": {
    "name": "extract_cohort_table"
   },
   "outputs": [],
   "source": [
    "\n",
    "sql <- glue(\"\n",
    "  select * \n",
    "  from {cohortDatabaseSchema}.{cohortTable}\n",
    "  where subject_id in (\n",
    "    select distinct subject_id \n",
    "    from {cohortDatabaseSchema}.{cohortTable}\n",
    "    where cohort_definition_id = 1\n",
    "  )\") %>% \n",
    "  SqlRender::translate(dbms(con))\n",
    "\n",
    "cohort <- Andromeda::andromeda()\n",
    "DatabaseConnector::querySqlToAndromeda(con, sql, cohort, \"cohort\")\n",
    "\n",
    "Andromeda::saveAndromeda(cohort, here::here(\"temp\", \"cohort\"))\n",
    "\n",
    "cohort <- Andromeda::loadAndromeda(here::here(\"temp\", \"cohort\"))\n",
    "\n",
    "print(paste(collect(tally(cohort$cohort))$n, \"rows in the cohort table\")) # old Andromeda\n",
    "print(paste(nrow(cohort$cohort), \"rows in the cohort table\")) # new Andromeda\n",
    "\n",
    "Andromeda::close(cohort)"
   ]
  },
  {
   "cell_type": "markdown",
   "id": "1a8cf636",
   "metadata": {},
   "source": [
    "# Get aggregate covariates for each strata"
   ]
  },
  {
   "cell_type": "code",
   "execution_count": null,
   "id": "f01222e7",
   "metadata": {
    "name": "get_charlson_scores_for_strata"
   },
   "outputs": [],
   "source": [
    "\n",
    "# Compute charlson group for each person in the target cohort an upload it to the database\n",
    "library(FeatureExtraction)\n",
    "\n",
    "charlson <- getDbCovariateData(\n",
    "  connection = con,\n",
    "  oracleTempSchema = getOption(\"SqlRenderTempEmulationSchema\"),\n",
    "  cohortTable = cohortTable,\n",
    "  cdmDatabaseSchema = cdmDatabaseSchema,\n",
    "  cohortDatabaseSchema = cohortDatabaseSchema,\n",
    "  cohortId = 1,\n",
    "  covariateSettings = createCovariateSettings(useCharlsonIndex = TRUE, longTermStartDays = -365, endDays = -1),\n",
    "  aggregated = FALSE)\n",
    "\n",
    "charlson_df <- charlson$covariates %>% \n",
    "  mutate(charlson_group = case_when(\n",
    "         covariateValue == 0 ~ 'CCI=0',\n",
    "         covariateValue == 1 ~ 'CCI=0',\n",
    "         covariateValue >= 2 ~ 'CCI>=2')) %>%\n",
    "  select(subject_id = rowId, charlson_group) %>%\n",
    "  collect() %>%\n",
    "  mutate(subject_id = as.integer(subject_id))\n",
    "\n",
    "insertTable(con, \n",
    "            databaseSchema = cohortDatabaseSchema,\n",
    "            tableName = \"charlson_strata\",\n",
    "            data = charlson_df,\n",
    "            bulkLoad = FALSE,\n",
    "            dropTableIfExists = TRUE,\n",
    "            progressBar = TRUE)"
   ]
  },
  {
   "cell_type": "code",
   "execution_count": null,
   "id": "acdba878",
   "metadata": {
    "name": "create_stratified_cohort_table"
   },
   "outputs": [],
   "source": [
    "# create a new cohort target cohort table with additional stratafication columns\n",
    "\n",
    "renderTranslateExecuteSql(con, glue(\"\n",
    "DROP TABLE IF EXISTS {cohortDatabaseSchema}.pioneer_target_strata;\n",
    "\n",
    "CREATE TABLE {cohortDatabaseSchema}.pioneer_target_strata AS\n",
    "select distinct\n",
    "    a.cohort_definition_id,\n",
    "    a.subject_id,\n",
    "    a.cohort_start_date,\n",
    "    a.cohort_end_date,\n",
    "    YEAR(a.cohort_start_date) as index_year,\n",
    "    CASE \n",
    "        WHEN YEAR(a.cohort_start_date) - p.year_of_birth < 60 THEN '<60'\n",
    "        WHEN YEAR(a.cohort_start_date) - p.year_of_birth >= 60 \n",
    "            AND YEAR(a.cohort_start_date) - p.year_of_birth < 70 THEN '60-69'\n",
    "        WHEN YEAR(a.cohort_start_date) - p.year_of_birth >= 70 \n",
    "            AND YEAR(a.cohort_start_date) - p.year_of_birth < 80 THEN '70-79'\n",
    "        WHEN YEAR(a.cohort_start_date) - p.year_of_birth >= 80 THEN '>80'\n",
    "    END AS age_group,\n",
    "    CASE WHEN b.cohort_definition_id = 23 AND b.cohort_start_date <= a.cohort_start_date THEN 1 ELSE 0 END AS obesity,\n",
    "    CASE WHEN b.cohort_definition_id = 24 AND b.cohort_start_date <= a.cohort_start_date THEN 1 ELSE 0 END AS hypertension,\n",
    "    CASE WHEN b.cohort_definition_id = 25 AND b.cohort_start_date <= a.cohort_start_date THEN 1 ELSE 0 END AS cve,\n",
    "    CASE WHEN b.cohort_definition_id = 26 AND b.cohort_start_date <= a.cohort_start_date THEN 1 ELSE 0 END AS t2dm,\n",
    "    CASE WHEN b.cohort_definition_id = 27 AND b.cohort_start_date <= a.cohort_start_date THEN 1 ELSE 0 END AS vte,\n",
    "    CASE WHEN b.cohort_definition_id = 28 AND b.cohort_start_date <= a.cohort_start_date THEN 1 ELSE 0 END AS copd,\n",
    "    COALESCE(c.charlson_group, 'CCI=0') AS charlson_group,\n",
    "    o.observation_period_start_date,\n",
    "    o.observation_period_end_date\n",
    "from {cohortDatabaseSchema}.{cohortTable} a\n",
    "join {cohortDatabaseSchema}.{cohortTable} b on a.subject_id = b.subject_id\n",
    "join {cdmDatabaseSchema}.person p on a.subject_id = p.person_id\n",
    "join {cdmDatabaseSchema}.observation_period o \n",
    "  ON a.subject_id = o.person_id \n",
    "  AND o.observation_period_start_date <= a.cohort_start_date\n",
    "  AND a.cohort_start_date <= o.observation_period_end_date\n",
    "left join {cohortDatabaseSchema}.charlson_strata c on a.subject_id = c.subject_id\n",
    "where a.cohort_definition_id = 1;\n",
    "\"))"
   ]
  },
  {
   "cell_type": "code",
   "execution_count": null,
   "id": "c37c1443",
   "metadata": {
    "lines_to_next_cell": 2
   },
   "outputs": [],
   "source": [
    "target_strata <- renderTranslateQuerySql(con, glue(\"select * from {cohortDatabaseSchema}.pioneer_target_strata\"))\n",
    "readr::write_rds(target_strata, here::here(\"temp\", \"target_strata.rds\"))"
   ]
  },
  {
   "cell_type": "code",
   "execution_count": null,
   "id": "935922dd",
   "metadata": {
    "name": "get_strata_levels_in_data"
   },
   "outputs": [],
   "source": [
    "# Get all levels of all strata that exist in the data\n",
    "strata_columns <- c(\"index_year\", \"age_group\", \"obesity\", \"hypertension\", \"cve\", \"t2dm\", \"copd\", \"charlson_group\")\n",
    "\n",
    "strata_levels <- purrr::map(strata_columns, ~renderTranslateQuerySql(con, \n",
    "  glue(\"select distinct {.} as x from {cohortDatabaseSchema}.pioneer_target_strata;\"))[[1]])\n",
    "names(strata_levels) <- strata_columns\n",
    "strata_level_names <- purrr::map(strata_levels, ~stringr::str_remove_all(., \"[:symbol:]\"))"
   ]
  },
  {
   "cell_type": "code",
   "execution_count": null,
   "id": "94edfc2c",
   "metadata": {
    "lines_to_next_cell": 2,
    "name": "extract_strata_features"
   },
   "outputs": [],
   "source": [
    "# Run feature extraction for each strata level\n",
    "start_days = c(-365, 0, 366)\n",
    "end_days = c(-1, 365, 710)\n",
    "\n",
    "if (!dir.exists(here::here(exportFolder, \"strata_covariates\"))) {\n",
    "  dir.create(here::here(exportFolder, \"strata_covariates\"))\n",
    "}\n",
    "\n",
    "for (i in seq_along(strata_levels)) {   \n",
    "    for (j in seq_along(strata_levels[[i]])) {\n",
    "        \n",
    "        # add string quotes\n",
    "        lv <- ifelse(is.character(strata_levels[[i]][j]), glue(\"'{strata_levels[[i]][j]}'\"), strata_levels[[i]][j])\n",
    "        # create a subset cohort table\n",
    "        renderTranslateExecuteSql(con, glue(\"\n",
    "            drop table if exists {cohortDatabaseSchema}.strata_temp_cohort;\n",
    "            create table {cohortDatabaseSchema}.strata_temp_cohort as\n",
    "            select * from {cohortDatabaseSchema}.pioneer_target_strata\n",
    "            where {names(strata_levels)[i]} = {lv}\"))\n",
    "        \n",
    "        cnt <- renderTranslateQuerySql(con, glue(\"select count(distinct subject_id) as n from {cohortDatabaseSchema}.strata_temp_cohort\"))[[1]]\n",
    "        \n",
    "        if (cnt < 10) {\n",
    "          print(glue(\"skipping FeatureExtraction for {names(strata_levels)[i]} level {strata_levels[[i]][j]} with {cnt} persons\"))\n",
    "          next\n",
    "        }\n",
    "        \n",
    "        print(glue(\"running FeatureExtraction for {names(strata_levels)[i]} level {strata_levels[[i]][j]} with {cnt} persons\"))\n",
    "\n",
    "        for (k in 1:3) {\n",
    "            # run FE for all three time windows \n",
    "            print(glue(\"Feature time window {start_days[k]} - {end_days[k]}\"))\n",
    "            preIndexCovariateSettings <- createCovariateSettings(\n",
    "              useDemographicsAge = TRUE,\n",
    "              useDemographicsGender = TRUE,\n",
    "              useConditionGroupEraLongTerm = TRUE,\n",
    "              useDrugGroupEraLongTerm = TRUE,\n",
    "              longTermStartDays = start_days[k],\n",
    "              endDays = end_days[k])\n",
    "\n",
    "            covariates <- \n",
    "                getDbCovariateData(\n",
    "                     connection = con,\n",
    "                     oracleTempSchema = getOption(\"SqlRenderTempEmulationSchema\"),\n",
    "                     cohortTable = cohortTable,\n",
    "                     cdmDatabaseSchema = cdmDatabaseSchema,\n",
    "                     cohortDatabaseSchema = cohortDatabaseSchema,\n",
    "                     covariateSettings = preIndexCovariateSettings,\n",
    "                     aggregated = TRUE)\n",
    "\n",
    "            nm <- glue(\"strata_covariates_{start_days[k]}_{end_days[k]}_{names(strata_levels)[i]}_{strata_level_names[[i]][j]}\") \n",
    "            Andromeda::saveAndromeda(covariates, here::here(exportFolder, \"strata_covariates\", nm))\n",
    "        }\n",
    "    }          \n",
    "}\n",
    "\n",
    "renderTranslateExecuteSql(con, glue(\"drop table if exists {cohortDatabaseSchema}.strata_temp_cohort;\"))"
   ]
  },
  {
   "cell_type": "code",
   "execution_count": null,
   "id": "daecd697",
   "metadata": {
    "lines_to_next_cell": 0,
    "name": "disconnect"
   },
   "outputs": [],
   "source": [
    "disconnect(con)"
   ]
  },
  {
   "cell_type": "markdown",
   "id": "41e392e1",
   "metadata": {},
   "source": []
  }
 ],
 "metadata": {
  "jupytext": {
   "cell_metadata_filter": "tags,eval,name,-all",
   "main_language": "R",
   "notebook_metadata_filter": "-all"
  }
 },
 "nbformat": 4,
 "nbformat_minor": 5
}
